{
 "cells": [
  {
   "cell_type": "code",
   "execution_count": 33,
   "metadata": {},
   "outputs": [],
   "source": [
    "import numpy as np\n",
    "import torch"
   ]
  },
  {
   "cell_type": "code",
   "execution_count": 34,
   "metadata": {},
   "outputs": [],
   "source": [
    "# Input (temp, rainfall, humidity)\n",
    "inputs = np.array([[73, 67, 43], \n",
    "                   [91, 88, 64], \n",
    "                   [87, 134, 58], \n",
    "                   [102, 43, 37], \n",
    "                   [69, 96, 70]], dtype='float32')\n",
    "# Targets (apples, oranges)\n",
    "targets = np.array([[56, 70], \n",
    "                    [81, 101], \n",
    "                    [119, 133], \n",
    "                    [22, 37], \n",
    "                    [103, 119]], dtype='float32')"
   ]
  },
  {
   "cell_type": "code",
   "execution_count": 35,
   "metadata": {},
   "outputs": [
    {
     "name": "stdout",
     "output_type": "stream",
     "text": [
      "tensor([[ 73.,  67.,  43.],\n",
      "        [ 91.,  88.,  64.],\n",
      "        [ 87., 134.,  58.],\n",
      "        [102.,  43.,  37.],\n",
      "        [ 69.,  96.,  70.]])\n",
      "tensor([[ 56.,  70.],\n",
      "        [ 81., 101.],\n",
      "        [119., 133.],\n",
      "        [ 22.,  37.],\n",
      "        [103., 119.]])\n"
     ]
    }
   ],
   "source": [
    "# Convert inputs and targets to tensors\n",
    "inputs = torch.from_numpy(inputs)\n",
    "targets = torch.from_numpy(targets)\n",
    "print(inputs)\n",
    "print(targets)"
   ]
  },
  {
   "cell_type": "code",
   "execution_count": 36,
   "metadata": {},
   "outputs": [
    {
     "name": "stdout",
     "output_type": "stream",
     "text": [
      "tensor([[-0.1198,  1.6646, -0.9860],\n",
      "        [ 0.7007, -0.1475,  1.2371]], requires_grad=True)\n",
      "tensor([-0.6641, -0.7647], requires_grad=True)\n"
     ]
    }
   ],
   "source": [
    "# Weights and biases\n",
    "w = torch.randn(2, 3, requires_grad=True)\n",
    "b = torch.randn(2, requires_grad=True)\n",
    "print(w)\n",
    "print(b)"
   ]
  },
  {
   "cell_type": "code",
   "execution_count": 37,
   "metadata": {},
   "outputs": [],
   "source": [
    "# Linear regression \n",
    "def model(x):\n",
    "    return x @ w.t() + b"
   ]
  },
  {
   "cell_type": "code",
   "execution_count": 38,
   "metadata": {},
   "outputs": [
    {
     "name": "stdout",
     "output_type": "stream",
     "text": [
      "tensor([[ 59.7216,  93.6995],\n",
      "        [ 71.8158, 129.1944],\n",
      "        [154.7845, 112.1850],\n",
      "        [ 22.2124, 110.1352],\n",
      "        [ 81.8522, 120.0229]], grad_fn=<AddBackward0>)\n"
     ]
    }
   ],
   "source": [
    "# Generate predictions\n",
    "preds = model(inputs)\n",
    "print(preds)"
   ]
  },
  {
   "cell_type": "code",
   "execution_count": 39,
   "metadata": {},
   "outputs": [],
   "source": [
    "# Creating a lost function\n",
    "def mse(t1,t2):\n",
    "    diff = t1 - t2\n",
    "    return torch.sum(diff * diff) / diff.numel()"
   ]
  },
  {
   "cell_type": "code",
   "execution_count": 40,
   "metadata": {},
   "outputs": [
    {
     "name": "stdout",
     "output_type": "stream",
     "text": [
      "tensor(896.5669, grad_fn=<DivBackward0>)\n"
     ]
    }
   ],
   "source": [
    "# Compute loss\n",
    "loss = mse(preds, targets)\n",
    "print(loss)"
   ]
  },
  {
   "cell_type": "markdown",
   "metadata": {},
   "source": [
    "### Compute Gradients"
   ]
  },
  {
   "cell_type": "code",
   "execution_count": 41,
   "metadata": {},
   "outputs": [],
   "source": [
    "loss.backward()"
   ]
  },
  {
   "cell_type": "code",
   "execution_count": 42,
   "metadata": {},
   "outputs": [
    {
     "name": "stdout",
     "output_type": "stream",
     "text": [
      "tensor([[-0.1198,  1.6646, -0.9860],\n",
      "        [ 0.7007, -0.1475,  1.2371]], requires_grad=True)\n",
      "tensor([[ 222.3291,  443.0434,   35.0524],\n",
      "        [2003.0439,  904.5544,  878.7706]])\n"
     ]
    }
   ],
   "source": [
    "# Gradients for weights\n",
    "print(w)\n",
    "print(w.grad)"
   ]
  },
  {
   "cell_type": "markdown",
   "metadata": {},
   "source": [
    "### Training"
   ]
  },
  {
   "cell_type": "code",
   "execution_count": 52,
   "metadata": {},
   "outputs": [
    {
     "name": "stdout",
     "output_type": "stream",
     "text": [
      "Epoch [10/300], Loss: nan\n",
      "Epoch [20/300], Loss: nan\n",
      "Epoch [30/300], Loss: nan\n",
      "Epoch [40/300], Loss: nan\n",
      "Epoch [50/300], Loss: nan\n",
      "Epoch [60/300], Loss: nan\n",
      "Epoch [70/300], Loss: nan\n",
      "Epoch [80/300], Loss: nan\n",
      "Epoch [90/300], Loss: nan\n",
      "Epoch [100/300], Loss: nan\n",
      "Epoch [110/300], Loss: nan\n",
      "Epoch [120/300], Loss: nan\n",
      "Epoch [130/300], Loss: nan\n",
      "Epoch [140/300], Loss: nan\n",
      "Epoch [150/300], Loss: nan\n",
      "Epoch [160/300], Loss: nan\n",
      "Epoch [170/300], Loss: nan\n",
      "Epoch [180/300], Loss: nan\n",
      "Epoch [190/300], Loss: nan\n",
      "Epoch [200/300], Loss: nan\n",
      "Epoch [210/300], Loss: nan\n",
      "Epoch [220/300], Loss: nan\n",
      "Epoch [230/300], Loss: nan\n",
      "Epoch [240/300], Loss: nan\n",
      "Epoch [250/300], Loss: nan\n",
      "Epoch [260/300], Loss: nan\n",
      "Epoch [270/300], Loss: nan\n",
      "Epoch [280/300], Loss: nan\n",
      "Epoch [290/300], Loss: nan\n",
      "Epoch [300/300], Loss: nan\n"
     ]
    }
   ],
   "source": [
    "# we will train for 200 epochs\n",
    "for epoch in range(300):\n",
    "    preds = model(inputs) # prediction \n",
    "    loss = mse(preds, targets) # calculate loss\n",
    "    loss.backward() # calculate gradients\n",
    "    with torch.no_grad():\n",
    "        w -= w.grad * 1e-5\n",
    "        b -= b.grad * 1e-5\n",
    "        w.grad.zero_()\n",
    "        b.grad.zero_()\n",
    "    if (epoch+1) % 10 == 0:\n",
    "            print('Epoch [{}/{}], Loss: {:.4f}'.format(epoch+1, 300, loss.item()))"
   ]
  },
  {
   "cell_type": "code",
   "execution_count": 46,
   "metadata": {},
   "outputs": [
    {
     "name": "stdout",
     "output_type": "stream",
     "text": [
      "tensor([[nan, nan],\n",
      "        [nan, nan],\n",
      "        [nan, nan],\n",
      "        [nan, nan],\n",
      "        [nan, nan]], grad_fn=<AddBackward0>)\n"
     ]
    }
   ],
   "source": [
    "preds = model(inputs)\n",
    "print(preds)"
   ]
  },
  {
   "cell_type": "code",
   "execution_count": null,
   "metadata": {},
   "outputs": [],
   "source": []
  }
 ],
 "metadata": {
  "interpreter": {
   "hash": "c34d062f30c4ff41cd22bdfe2be58be892e9117b41ebbeecea471be3c9df789b"
  },
  "kernelspec": {
   "display_name": "Python 3.7.12 64-bit ('spyne': conda)",
   "language": "python",
   "name": "python3"
  },
  "language_info": {
   "codemirror_mode": {
    "name": "ipython",
    "version": 3
   },
   "file_extension": ".py",
   "mimetype": "text/x-python",
   "name": "python",
   "nbconvert_exporter": "python",
   "pygments_lexer": "ipython3",
   "version": "3.7.12"
  },
  "orig_nbformat": 4
 },
 "nbformat": 4,
 "nbformat_minor": 2
}
