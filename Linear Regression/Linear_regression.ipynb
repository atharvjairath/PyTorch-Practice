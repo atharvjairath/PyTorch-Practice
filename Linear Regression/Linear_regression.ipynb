{
 "cells": [
  {
   "cell_type": "code",
   "execution_count": 4,
   "metadata": {},
   "outputs": [],
   "source": [
    "import numpy as np\n",
    "import torch"
   ]
  },
  {
   "cell_type": "code",
   "execution_count": 5,
   "metadata": {},
   "outputs": [],
   "source": [
    "# Input (temp, rainfall, humidity)\n",
    "inputs = np.array([[73, 67, 43], \n",
    "                   [91, 88, 64], \n",
    "                   [87, 134, 58], \n",
    "                   [102, 43, 37], \n",
    "                   [69, 96, 70]], dtype='float32')\n",
    "# Targets (apples, oranges)\n",
    "targets = np.array([[56, 70], \n",
    "                    [81, 101], \n",
    "                    [119, 133], \n",
    "                    [22, 37], \n",
    "                    [103, 119]], dtype='float32')"
   ]
  },
  {
   "cell_type": "code",
   "execution_count": 6,
   "metadata": {},
   "outputs": [
    {
     "name": "stdout",
     "output_type": "stream",
     "text": [
      "tensor([[ 73.,  67.,  43.],\n",
      "        [ 91.,  88.,  64.],\n",
      "        [ 87., 134.,  58.],\n",
      "        [102.,  43.,  37.],\n",
      "        [ 69.,  96.,  70.]])\n",
      "tensor([[ 56.,  70.],\n",
      "        [ 81., 101.],\n",
      "        [119., 133.],\n",
      "        [ 22.,  37.],\n",
      "        [103., 119.]])\n"
     ]
    }
   ],
   "source": [
    "# Convert inputs and targets to tensors\n",
    "inputs = torch.from_numpy(inputs)\n",
    "targets = torch.from_numpy(targets)\n",
    "print(inputs)\n",
    "print(targets)"
   ]
  },
  {
   "cell_type": "code",
   "execution_count": 7,
   "metadata": {},
   "outputs": [
    {
     "name": "stdout",
     "output_type": "stream",
     "text": [
      "tensor([[-0.8675, -0.4186,  0.4995],\n",
      "        [ 1.0118,  0.8942,  0.0157]], requires_grad=True)\n",
      "tensor([-0.2413,  0.0188], requires_grad=True)\n"
     ]
    }
   ],
   "source": [
    "# Weights and biases\n",
    "w = torch.randn(2, 3, requires_grad=True)\n",
    "b = torch.randn(2, requires_grad=True)\n",
    "print(w)\n",
    "print(b)"
   ]
  },
  {
   "cell_type": "code",
   "execution_count": 8,
   "metadata": {},
   "outputs": [],
   "source": [
    "# Linear regression \n",
    "def model(x):\n",
    "    return x @ w.t() + b"
   ]
  },
  {
   "cell_type": "code",
   "execution_count": 9,
   "metadata": {},
   "outputs": [
    {
     "name": "stdout",
     "output_type": "stream",
     "text": [
      "tensor([[ -70.1350,  134.4650],\n",
      "        [ -84.0505,  171.7852],\n",
      "        [-102.8311,  208.7761],\n",
      "        [ -88.2448,  142.2516],\n",
      "        [ -65.3164,  156.7741]], grad_fn=<AddBackward0>)\n"
     ]
    }
   ],
   "source": [
    "# Generate predictions\n",
    "preds = model(inputs)\n",
    "print(preds)"
   ]
  },
  {
   "cell_type": "code",
   "execution_count": 10,
   "metadata": {},
   "outputs": [],
   "source": [
    "# Creating a lost function\n",
    "def mse(t1,t2):\n",
    "    diff = t1 - t2\n",
    "    return torch.sum(diff * diff) / diff.numel()"
   ]
  },
  {
   "cell_type": "code",
   "execution_count": 11,
   "metadata": {},
   "outputs": [
    {
     "name": "stdout",
     "output_type": "stream",
     "text": [
      "tensor(16025.8174, grad_fn=<DivBackward0>)\n"
     ]
    }
   ],
   "source": [
    "# Compute loss\n",
    "loss = mse(preds, targets)\n",
    "print(loss)"
   ]
  },
  {
   "cell_type": "markdown",
   "metadata": {},
   "source": [
    "### Compute Gradients"
   ]
  },
  {
   "cell_type": "code",
   "execution_count": 12,
   "metadata": {},
   "outputs": [],
   "source": [
    "loss.backward()"
   ]
  },
  {
   "cell_type": "code",
   "execution_count": 13,
   "metadata": {},
   "outputs": [
    {
     "name": "stdout",
     "output_type": "stream",
     "text": [
      "tensor([[-0.8675, -0.4186,  0.4995],\n",
      "        [ 1.0118,  0.8942,  0.0157]], requires_grad=True)\n",
      "tensor([[-13277.1123, -14719.9531,  -8942.8906],\n",
      "        [  6216.3975,   5770.8750,   3647.1506]])\n"
     ]
    }
   ],
   "source": [
    "# Gradients for weights\n",
    "print(w)\n",
    "print(w.grad)"
   ]
  },
  {
   "cell_type": "markdown",
   "metadata": {},
   "source": [
    "### Training"
   ]
  },
  {
   "cell_type": "code",
   "execution_count": 14,
   "metadata": {},
   "outputs": [
    {
     "name": "stdout",
     "output_type": "stream",
     "text": [
      "Epoch [10/300], Loss: 680.7848\n",
      "Epoch [20/300], Loss: 371.2711\n",
      "Epoch [30/300], Loss: 328.9848\n",
      "Epoch [40/300], Loss: 296.0746\n",
      "Epoch [50/300], Loss: 267.0598\n",
      "Epoch [60/300], Loss: 241.3932\n",
      "Epoch [70/300], Loss: 218.6761\n",
      "Epoch [80/300], Loss: 198.5583\n",
      "Epoch [90/300], Loss: 180.7319\n",
      "Epoch [100/300], Loss: 164.9252\n",
      "Epoch [110/300], Loss: 150.8996\n",
      "Epoch [120/300], Loss: 138.4440\n",
      "Epoch [130/300], Loss: 127.3732\n",
      "Epoch [140/300], Loss: 117.5239\n",
      "Epoch [150/300], Loss: 108.7521\n",
      "Epoch [160/300], Loss: 100.9309\n",
      "Epoch [170/300], Loss: 93.9489\n",
      "Epoch [180/300], Loss: 87.7074\n",
      "Epoch [190/300], Loss: 82.1200\n",
      "Epoch [200/300], Loss: 77.1103\n",
      "Epoch [210/300], Loss: 72.6108\n",
      "Epoch [220/300], Loss: 68.5624\n",
      "Epoch [230/300], Loss: 64.9128\n",
      "Epoch [240/300], Loss: 61.6161\n",
      "Epoch [250/300], Loss: 58.6314\n",
      "Epoch [260/300], Loss: 55.9234\n",
      "Epoch [270/300], Loss: 53.4602\n",
      "Epoch [280/300], Loss: 51.2141\n",
      "Epoch [290/300], Loss: 49.1608\n",
      "Epoch [300/300], Loss: 47.2786\n"
     ]
    }
   ],
   "source": [
    "# we will train for 200 epochs\n",
    "for epoch in range(300):\n",
    "    preds = model(inputs) # prediction \n",
    "    loss = mse(preds, targets) # calculate loss\n",
    "    loss.backward() # calculate gradients\n",
    "    with torch.no_grad():\n",
    "        w -= w.grad * 1e-5\n",
    "        b -= b.grad * 1e-5\n",
    "        w.grad.zero_()\n",
    "        b.grad.zero_()\n",
    "    if (epoch+1) % 10 == 0:\n",
    "            print('Epoch [{}/{}], Loss: {:.4f}'.format(epoch+1, 300, loss.item()))"
   ]
  },
  {
   "cell_type": "code",
   "execution_count": 15,
   "metadata": {},
   "outputs": [
    {
     "name": "stdout",
     "output_type": "stream",
     "text": [
      "tensor([[ 57.4594,  72.1627],\n",
      "        [ 84.6464,  95.7196],\n",
      "        [112.6711, 141.2377],\n",
      "        [ 23.2462,  47.1527],\n",
      "        [104.8547, 104.6119]], grad_fn=<AddBackward0>)\n"
     ]
    }
   ],
   "source": [
    "preds = model(inputs)\n",
    "print(preds)"
   ]
  },
  {
   "cell_type": "markdown",
   "metadata": {},
   "source": [
    "## Linear regression using PyTorch built-ins"
   ]
  },
  {
   "cell_type": "code",
   "execution_count": 16,
   "metadata": {},
   "outputs": [],
   "source": [
    "import torch.nn as nn\n",
    "from torch.utils.data import TensorDataset\n",
    "from torch.utils.data import DataLoader\n",
    "import torch.nn.functional as F"
   ]
  },
  {
   "cell_type": "code",
   "execution_count": 17,
   "metadata": {},
   "outputs": [],
   "source": [
    "# Input (temp, rainfall, humidity)\n",
    "inputs = np.array([[73, 67, 43], \n",
    "                   [91, 88, 64], \n",
    "                   [87, 134, 58], \n",
    "                   [102, 43, 37], \n",
    "                   [69, 96, 70], \n",
    "                   [74, 66, 43], \n",
    "                   [91, 87, 65], \n",
    "                   [88, 134, 59], \n",
    "                   [101, 44, 37], \n",
    "                   [68, 96, 71], \n",
    "                   [73, 66, 44], \n",
    "                   [92, 87, 64], \n",
    "                   [87, 135, 57], \n",
    "                   [103, 43, 36], \n",
    "                   [68, 97, 70]], \n",
    "                  dtype='float32')\n",
    "\n",
    "# Targets (apples, oranges)\n",
    "targets = np.array([[56, 70], \n",
    "                    [81, 101], \n",
    "                    [119, 133], \n",
    "                    [22, 37], \n",
    "                    [103, 119],\n",
    "                    [57, 69], \n",
    "                    [80, 102], \n",
    "                    [118, 132], \n",
    "                    [21, 38], \n",
    "                    [104, 118], \n",
    "                    [57, 69], \n",
    "                    [82, 100], \n",
    "                    [118, 134], \n",
    "                    [20, 38], \n",
    "                    [102, 120]], \n",
    "                   dtype='float32')\n",
    "\n",
    "inputs = torch.from_numpy(inputs)\n",
    "targets = torch.from_numpy(targets)"
   ]
  },
  {
   "cell_type": "code",
   "execution_count": 18,
   "metadata": {},
   "outputs": [],
   "source": [
    "# Define dataset\n",
    "train_ds = TensorDataset(inputs, targets)\n",
    "train_ds[0:3]\n",
    "\n",
    "# Define data loader\n",
    "batch_size = 5\n",
    "train_dl = DataLoader(train_ds, batch_size, shuffle=True)"
   ]
  },
  {
   "cell_type": "code",
   "execution_count": 19,
   "metadata": {},
   "outputs": [
    {
     "name": "stdout",
     "output_type": "stream",
     "text": [
      "Parameter containing:\n",
      "tensor([[ 0.5400, -0.4189, -0.3970],\n",
      "        [-0.4150,  0.2960,  0.0733]], requires_grad=True)\n",
      "Parameter containing:\n",
      "tensor([0.1484, 0.0091], requires_grad=True)\n"
     ]
    }
   ],
   "source": [
    "# Define model\n",
    "model = nn.Linear(3, 2)\n",
    "print(model.weight)\n",
    "print(model.bias)"
   ]
  },
  {
   "cell_type": "code",
   "execution_count": 20,
   "metadata": {},
   "outputs": [],
   "source": [
    "loss_fn = F.mse_loss"
   ]
  },
  {
   "cell_type": "code",
   "execution_count": 21,
   "metadata": {},
   "outputs": [],
   "source": [
    "opt = torch.optim.SGD(model.parameters(), lr=1e-5)"
   ]
  },
  {
   "cell_type": "code",
   "execution_count": 22,
   "metadata": {},
   "outputs": [],
   "source": [
    "# Utility function to train the model\n",
    "def fit(num_epochs, model, loss_fn, opt, train_dl):\n",
    "    \n",
    "    # Repeat for given number of epochs\n",
    "    for epoch in range(num_epochs):\n",
    "        \n",
    "        # Train with batches of data\n",
    "        for xb,yb in train_dl:\n",
    "            \n",
    "            # 1. Generate predictions\n",
    "            pred = model(xb)\n",
    "            \n",
    "            # 2. Calculate loss\n",
    "            loss = loss_fn(pred, yb)\n",
    "            \n",
    "            # 3. Compute gradients\n",
    "            loss.backward()\n",
    "            \n",
    "            # 4. Update parameters using gradients\n",
    "            opt.step()\n",
    "            \n",
    "            # 5. Reset the gradients to zero\n",
    "            opt.zero_grad()\n",
    "        \n",
    "        # Print the progress\n",
    "        if (epoch+1) % 10 == 0:\n",
    "            print('Epoch [{}/{}], Loss: {:.4f}'.format(epoch+1, num_epochs, loss.item()))"
   ]
  },
  {
   "cell_type": "code",
   "execution_count": 23,
   "metadata": {},
   "outputs": [
    {
     "name": "stdout",
     "output_type": "stream",
     "text": [
      "Epoch [10/100], Loss: 375.4182\n",
      "Epoch [20/100], Loss: 656.2269\n",
      "Epoch [30/100], Loss: 244.0938\n",
      "Epoch [40/100], Loss: 174.5236\n",
      "Epoch [50/100], Loss: 121.5028\n",
      "Epoch [60/100], Loss: 169.4109\n",
      "Epoch [70/100], Loss: 89.4336\n",
      "Epoch [80/100], Loss: 125.8663\n",
      "Epoch [90/100], Loss: 55.6358\n",
      "Epoch [100/100], Loss: 44.7388\n"
     ]
    },
    {
     "data": {
      "text/plain": [
       "tensor([[ 59.1582,  71.0038],\n",
       "        [ 79.5849,  98.0566],\n",
       "        [119.8647, 137.3406],\n",
       "        [ 33.3838,  41.0827],\n",
       "        [ 90.3237, 112.2524],\n",
       "        [ 58.1538,  69.9246],\n",
       "        [ 78.8775,  97.6759],\n",
       "        [119.9315, 137.6965],\n",
       "        [ 34.3882,  42.1619],\n",
       "        [ 90.6208, 112.9509],\n",
       "        [ 58.4508,  70.6231],\n",
       "        [ 78.5804,  96.9774],\n",
       "        [120.5721, 137.7213],\n",
       "        [ 33.0867,  40.3841],\n",
       "        [ 91.3282, 113.3316]], grad_fn=<AddmmBackward0>)"
      ]
     },
     "execution_count": 23,
     "metadata": {},
     "output_type": "execute_result"
    }
   ],
   "source": [
    "fit(100, model, loss_fn, opt, train_dl)\n",
    "\n",
    "# Print preds\n",
    "preds = model(inputs)\n",
    "preds"
   ]
  },
  {
   "cell_type": "code",
   "execution_count": null,
   "metadata": {},
   "outputs": [],
   "source": []
  }
 ],
 "metadata": {
  "interpreter": {
   "hash": "c34d062f30c4ff41cd22bdfe2be58be892e9117b41ebbeecea471be3c9df789b"
  },
  "kernelspec": {
   "display_name": "Python 3.7.12 64-bit ('spyne': conda)",
   "language": "python",
   "name": "python3"
  },
  "language_info": {
   "codemirror_mode": {
    "name": "ipython",
    "version": 3
   },
   "file_extension": ".py",
   "mimetype": "text/x-python",
   "name": "python",
   "nbconvert_exporter": "python",
   "pygments_lexer": "ipython3",
   "version": "3.7.12"
  },
  "orig_nbformat": 4
 },
 "nbformat": 4,
 "nbformat_minor": 2
}
