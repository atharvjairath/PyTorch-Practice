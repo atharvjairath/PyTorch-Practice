{
 "cells": [
  {
   "cell_type": "code",
   "execution_count": 2,
   "metadata": {},
   "outputs": [],
   "source": [
    "import torch\n",
    "from torch import nn\n",
    "import torch.nn.functional as F"
   ]
  },
  {
   "cell_type": "markdown",
   "metadata": {},
   "source": [
    "## Self Attention (basic)"
   ]
  },
  {
   "cell_type": "code",
   "execution_count": 5,
   "metadata": {},
   "outputs": [],
   "source": [
    "# attention class\n",
    "class SelfAttention(nn.Module):\n",
    "    def __init__(self, k , heads = 8): # k = embedding size of the input\n",
    "        super().__init__()\n",
    "        self.k , self.heads = k , heads\n",
    "\n",
    "        # Now we will create the 3 linear layers (Q<K<V)\n",
    "        self.query = nn.Linear(k, k * heads , bias=False) # since we are doing multi head trasnsformation we are commbing the output\n",
    "        self.keys = nn.Linear(k, k * heads, bias=False)\n",
    "        self.values = nn.Linear(k, k * heads, bias=False)\n",
    "\n",
    "        # lets combine the output of all heads into one\n",
    "        self.combine = nn.Linear(k * heads, k)\n",
    "            \n",
    "        def forward(self, x):\n",
    "            batch_size , seq_len , k = x.size()\n",
    "            h = self.heads\n",
    "\n",
    "            #The output of each linear module has size (b, t, h*k)\n",
    "            # which we simply reshape to (b, t, h, k) give each head its own dimension.\n",
    "            queries = self.query(x).view(batch_size, seq_len, h, k)\n",
    "            keys = self.keys(x).view(batch_size, seq_len, h, k)\n",
    "            values = self.values(x).view(batch_size, seq_len, h, k)\n",
    "\n",
    "            # now we will do dot products \n",
    "            # Since its same operation for all heads we will fold it into batch dims\n",
    "            queries = queries.transpose(1, 2).contiguous().view(batch_size * h, seq_len, k)\n",
    "            keys = keys.transpose(1, 2).contiguous().view(batch_size * h, seq_len, k)\n",
    "            values = values.transpose(1, 2).contiguous().view(batch_size * h, seq_len, k)\n",
    "\n",
    "            # Instead of dividing the dot products by sqrt(e), we scale the keys and values.\n",
    "            # This should be more memory efficient\n",
    "            queries = queries / ( k** (1/4))\n",
    "            keys    = keys / (k** (1/4))\n",
    "\n",
    "            # dot product of queries and keys\n",
    "            dot = torch.bmm(queries, keys.transpose(1, 2))\n",
    "\n",
    "            # softmax the dot product\n",
    "            dot = F.softmax(dot, dim=2) \n",
    "\n",
    "            # now with batch matrix mul with values\n",
    "            out = torch.bmm(dot, values).view(batch_size, seq_len, h, k)\n",
    "\n",
    "            # now we need to unify the heads\n",
    "            # swap h, t back, unify heads\n",
    "            out = out.transpose(1, 2).contiguous().view(batch_size, seq_len, h * k)\n",
    "            return self.combine(out)"
   ]
  },
  {
   "cell_type": "code",
   "execution_count": null,
   "metadata": {},
   "outputs": [],
   "source": []
  }
 ],
 "metadata": {
  "interpreter": {
   "hash": "c34d062f30c4ff41cd22bdfe2be58be892e9117b41ebbeecea471be3c9df789b"
  },
  "kernelspec": {
   "display_name": "Python 3.7.12 ('spyne')",
   "language": "python",
   "name": "python3"
  },
  "language_info": {
   "codemirror_mode": {
    "name": "ipython",
    "version": 3
   },
   "file_extension": ".py",
   "mimetype": "text/x-python",
   "name": "python",
   "nbconvert_exporter": "python",
   "pygments_lexer": "ipython3",
   "version": "3.7.12"
  },
  "orig_nbformat": 4
 },
 "nbformat": 4,
 "nbformat_minor": 2
}
